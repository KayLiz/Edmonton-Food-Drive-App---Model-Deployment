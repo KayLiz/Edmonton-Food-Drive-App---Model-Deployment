{
  "nbformat": 4,
  "nbformat_minor": 0,
  "metadata": {
    "colab": {
      "provenance": []
    },
    "kernelspec": {
      "name": "python3",
      "display_name": "Python 3"
    },
    "language_info": {
      "name": "python"
    }
  },
  "cells": [
    {
      "cell_type": "markdown",
      "metadata": {
        "id": "U9Yc8NQ0Y1D_"
      },
      "source": [
        "### Group 1: Year-on-Year Comparison (2023 vs 2024)\n",
        "Focus: Perform a year-on-year comparison between the 2023 and 2024 food drives, analyzing donations, and route completion times.\n",
        "ML Task: Comparative Analysis\n",
        "Objective: Build a model that predicts how donation predictions from 2023 align with 2024."
      ]
    },
    {
      "cell_type": "code",
      "source": [
        "#importing libraries\n",
        "import pandas as pd\n",
        "import matplotlib.pyplot as plt\n",
        "import numpy as np\n",
        "import seaborn as sns\n",
        "import joblib\n",
        "import pickle\n",
        "from sklearn.model_selection import train_test_split\n",
        "from sklearn.linear_model import LinearRegression\n",
        "from sklearn.tree import DecisionTreeRegressor\n",
        "from sklearn.neighbors import KNeighborsRegressor\n",
        "from sklearn.ensemble import RandomForestRegressor\n",
        "from xgboost import XGBRegressor\n",
        "from sklearn.svm import SVR\n",
        "from sklearn.metrics import mean_squared_error,root_mean_squared_error, r2_score, mean_absolute_error\n",
        "from sklearn.preprocessing import StandardScaler\n",
        "from sklearn.preprocessing import OneHotEncoder\n",
        "from sklearn.pipeline import Pipeline\n",
        "from sklearn.compose import ColumnTransformer\n",
        "from sklearn.model_selection import GridSearchCV\n",
        "from sklearn.model_selection import KFold, cross_val_score\n",
        "from sklearn.ensemble import GradientBoostingRegressor"
      ],
      "metadata": {
        "id": "SCrpLX0VfcLo"
      },
      "execution_count": 313,
      "outputs": []
    },
    {
      "cell_type": "code",
      "execution_count": 314,
      "metadata": {
        "id": "kf2G4t3Xv1Cz"
      },
      "outputs": [],
      "source": [
        "#load the 2024 dataset as the test dataset\n",
        "data_2024 = pd.read_csv('cleaned_data_2024.csv', encoding='latin1')"
      ]
    },
    {
      "cell_type": "code",
      "execution_count": 315,
      "metadata": {
        "id": "-OnokPVov8Mp"
      },
      "outputs": [],
      "source": [
        "#load the 2023 dataset as the test dataset\n",
        "data_2023 = pd.read_csv('cleaned_data_2023.csv', encoding='latin1')"
      ]
    },
    {
      "cell_type": "code",
      "source": [
        "data_2024.head()"
      ],
      "metadata": {
        "colab": {
          "base_uri": "https://localhost:8080/",
          "height": 434
        },
        "id": "VpkhVanagAtM",
        "outputId": "94709333-0138-4a57-bac0-b90f27fbfc8a"
      },
      "execution_count": 316,
      "outputs": [
        {
          "output_type": "execute_result",
          "data": {
            "text/plain": [
              "               date         drop_off_location              stake  \\\n",
              "0  2024-09-28 10:01        Londonberry Chapel  Bonnie Doon Stake   \n",
              "1  2024-09-28 10:31     Gateway Stake Centre       Gateway Stake   \n",
              "2  2024-09-28 10:33  Bonnie Doon Stake Centre  Bonnie Doon Stake   \n",
              "3  2024-09-28 10:41           Bearspaw Chapel      Gateway Stake   \n",
              "4  2024-09-28 10:36     Gateway Stake Centre       Gateway Stake   \n",
              "\n",
              "  route_number/name time_spent_collecting_donations  \\\n",
              "0        Unassigned                  0 - 30 Minutes   \n",
              "1                50                  0 - 30 Minutes   \n",
              "2                98                  0 - 30 Minutes   \n",
              "3                 6                 30 - 60 Minutes   \n",
              "4                19                 30 - 60 Minutes   \n",
              "\n",
              "   #_of_adult_volunteers_who_participated_in_this_route  \\\n",
              "0                                                  1      \n",
              "1                                                  2      \n",
              "2                                                  2      \n",
              "3                                                  2      \n",
              "4                                                  1      \n",
              "\n",
              "   #_of_youth_volunteers_who_participated_in_this_route  #_of_doors_in_route  \\\n",
              "0                                                  0                       1   \n",
              "1                                                  2                      20   \n",
              "2                                                  2                      20   \n",
              "3                                                  3                     144   \n",
              "4                                                  0                     230   \n",
              "\n",
              "   #_of_donation_bags_collected did_you_complete_more_than_1_route?  \\\n",
              "0                             1                                  No   \n",
              "1                            20                                  No   \n",
              "2                            15                                  No   \n",
              "3                            25                                 Yes   \n",
              "4                            21                                  No   \n",
              "\n",
              "   Number of routes completed                 ward  Form Completion Time  \\\n",
              "0                           1       Clareview Ward  3 minutes 43 seconds   \n",
              "1                           1       Lee Ridge Ward  2 minutes 41 seconds   \n",
              "2                           1  Forest Heights Ward  3 minutes 27 seconds   \n",
              "3                           2       Lee Ridge Ward   2 minutes 3 seconds   \n",
              "4                           1    Silver Berry Ward  8 minutes 58 seconds   \n",
              "\n",
              "   Total Volunteers  \n",
              "0                 1  \n",
              "1                 4  \n",
              "2                 4  \n",
              "3                 5  \n",
              "4                 1  "
            ],
            "text/html": [
              "\n",
              "  <div id=\"df-78f8e71d-91d3-420e-9067-a05a2638db19\" class=\"colab-df-container\">\n",
              "    <div>\n",
              "<style scoped>\n",
              "    .dataframe tbody tr th:only-of-type {\n",
              "        vertical-align: middle;\n",
              "    }\n",
              "\n",
              "    .dataframe tbody tr th {\n",
              "        vertical-align: top;\n",
              "    }\n",
              "\n",
              "    .dataframe thead th {\n",
              "        text-align: right;\n",
              "    }\n",
              "</style>\n",
              "<table border=\"1\" class=\"dataframe\">\n",
              "  <thead>\n",
              "    <tr style=\"text-align: right;\">\n",
              "      <th></th>\n",
              "      <th>date</th>\n",
              "      <th>drop_off_location</th>\n",
              "      <th>stake</th>\n",
              "      <th>route_number/name</th>\n",
              "      <th>time_spent_collecting_donations</th>\n",
              "      <th>#_of_adult_volunteers_who_participated_in_this_route</th>\n",
              "      <th>#_of_youth_volunteers_who_participated_in_this_route</th>\n",
              "      <th>#_of_doors_in_route</th>\n",
              "      <th>#_of_donation_bags_collected</th>\n",
              "      <th>did_you_complete_more_than_1_route?</th>\n",
              "      <th>Number of routes completed</th>\n",
              "      <th>ward</th>\n",
              "      <th>Form Completion Time</th>\n",
              "      <th>Total Volunteers</th>\n",
              "    </tr>\n",
              "  </thead>\n",
              "  <tbody>\n",
              "    <tr>\n",
              "      <th>0</th>\n",
              "      <td>2024-09-28 10:01</td>\n",
              "      <td>Londonberry Chapel</td>\n",
              "      <td>Bonnie Doon Stake</td>\n",
              "      <td>Unassigned</td>\n",
              "      <td>0 - 30 Minutes</td>\n",
              "      <td>1</td>\n",
              "      <td>0</td>\n",
              "      <td>1</td>\n",
              "      <td>1</td>\n",
              "      <td>No</td>\n",
              "      <td>1</td>\n",
              "      <td>Clareview Ward</td>\n",
              "      <td>3 minutes 43 seconds</td>\n",
              "      <td>1</td>\n",
              "    </tr>\n",
              "    <tr>\n",
              "      <th>1</th>\n",
              "      <td>2024-09-28 10:31</td>\n",
              "      <td>Gateway Stake Centre</td>\n",
              "      <td>Gateway Stake</td>\n",
              "      <td>50</td>\n",
              "      <td>0 - 30 Minutes</td>\n",
              "      <td>2</td>\n",
              "      <td>2</td>\n",
              "      <td>20</td>\n",
              "      <td>20</td>\n",
              "      <td>No</td>\n",
              "      <td>1</td>\n",
              "      <td>Lee Ridge Ward</td>\n",
              "      <td>2 minutes 41 seconds</td>\n",
              "      <td>4</td>\n",
              "    </tr>\n",
              "    <tr>\n",
              "      <th>2</th>\n",
              "      <td>2024-09-28 10:33</td>\n",
              "      <td>Bonnie Doon Stake Centre</td>\n",
              "      <td>Bonnie Doon Stake</td>\n",
              "      <td>98</td>\n",
              "      <td>0 - 30 Minutes</td>\n",
              "      <td>2</td>\n",
              "      <td>2</td>\n",
              "      <td>20</td>\n",
              "      <td>15</td>\n",
              "      <td>No</td>\n",
              "      <td>1</td>\n",
              "      <td>Forest Heights Ward</td>\n",
              "      <td>3 minutes 27 seconds</td>\n",
              "      <td>4</td>\n",
              "    </tr>\n",
              "    <tr>\n",
              "      <th>3</th>\n",
              "      <td>2024-09-28 10:41</td>\n",
              "      <td>Bearspaw Chapel</td>\n",
              "      <td>Gateway Stake</td>\n",
              "      <td>6</td>\n",
              "      <td>30 - 60 Minutes</td>\n",
              "      <td>2</td>\n",
              "      <td>3</td>\n",
              "      <td>144</td>\n",
              "      <td>25</td>\n",
              "      <td>Yes</td>\n",
              "      <td>2</td>\n",
              "      <td>Lee Ridge Ward</td>\n",
              "      <td>2 minutes 3 seconds</td>\n",
              "      <td>5</td>\n",
              "    </tr>\n",
              "    <tr>\n",
              "      <th>4</th>\n",
              "      <td>2024-09-28 10:36</td>\n",
              "      <td>Gateway Stake Centre</td>\n",
              "      <td>Gateway Stake</td>\n",
              "      <td>19</td>\n",
              "      <td>30 - 60 Minutes</td>\n",
              "      <td>1</td>\n",
              "      <td>0</td>\n",
              "      <td>230</td>\n",
              "      <td>21</td>\n",
              "      <td>No</td>\n",
              "      <td>1</td>\n",
              "      <td>Silver Berry Ward</td>\n",
              "      <td>8 minutes 58 seconds</td>\n",
              "      <td>1</td>\n",
              "    </tr>\n",
              "  </tbody>\n",
              "</table>\n",
              "</div>\n",
              "    <div class=\"colab-df-buttons\">\n",
              "\n",
              "  <div class=\"colab-df-container\">\n",
              "    <button class=\"colab-df-convert\" onclick=\"convertToInteractive('df-78f8e71d-91d3-420e-9067-a05a2638db19')\"\n",
              "            title=\"Convert this dataframe to an interactive table.\"\n",
              "            style=\"display:none;\">\n",
              "\n",
              "  <svg xmlns=\"http://www.w3.org/2000/svg\" height=\"24px\" viewBox=\"0 -960 960 960\">\n",
              "    <path d=\"M120-120v-720h720v720H120Zm60-500h600v-160H180v160Zm220 220h160v-160H400v160Zm0 220h160v-160H400v160ZM180-400h160v-160H180v160Zm440 0h160v-160H620v160ZM180-180h160v-160H180v160Zm440 0h160v-160H620v160Z\"/>\n",
              "  </svg>\n",
              "    </button>\n",
              "\n",
              "  <style>\n",
              "    .colab-df-container {\n",
              "      display:flex;\n",
              "      gap: 12px;\n",
              "    }\n",
              "\n",
              "    .colab-df-convert {\n",
              "      background-color: #E8F0FE;\n",
              "      border: none;\n",
              "      border-radius: 50%;\n",
              "      cursor: pointer;\n",
              "      display: none;\n",
              "      fill: #1967D2;\n",
              "      height: 32px;\n",
              "      padding: 0 0 0 0;\n",
              "      width: 32px;\n",
              "    }\n",
              "\n",
              "    .colab-df-convert:hover {\n",
              "      background-color: #E2EBFA;\n",
              "      box-shadow: 0px 1px 2px rgba(60, 64, 67, 0.3), 0px 1px 3px 1px rgba(60, 64, 67, 0.15);\n",
              "      fill: #174EA6;\n",
              "    }\n",
              "\n",
              "    .colab-df-buttons div {\n",
              "      margin-bottom: 4px;\n",
              "    }\n",
              "\n",
              "    [theme=dark] .colab-df-convert {\n",
              "      background-color: #3B4455;\n",
              "      fill: #D2E3FC;\n",
              "    }\n",
              "\n",
              "    [theme=dark] .colab-df-convert:hover {\n",
              "      background-color: #434B5C;\n",
              "      box-shadow: 0px 1px 3px 1px rgba(0, 0, 0, 0.15);\n",
              "      filter: drop-shadow(0px 1px 2px rgba(0, 0, 0, 0.3));\n",
              "      fill: #FFFFFF;\n",
              "    }\n",
              "  </style>\n",
              "\n",
              "    <script>\n",
              "      const buttonEl =\n",
              "        document.querySelector('#df-78f8e71d-91d3-420e-9067-a05a2638db19 button.colab-df-convert');\n",
              "      buttonEl.style.display =\n",
              "        google.colab.kernel.accessAllowed ? 'block' : 'none';\n",
              "\n",
              "      async function convertToInteractive(key) {\n",
              "        const element = document.querySelector('#df-78f8e71d-91d3-420e-9067-a05a2638db19');\n",
              "        const dataTable =\n",
              "          await google.colab.kernel.invokeFunction('convertToInteractive',\n",
              "                                                    [key], {});\n",
              "        if (!dataTable) return;\n",
              "\n",
              "        const docLinkHtml = 'Like what you see? Visit the ' +\n",
              "          '<a target=\"_blank\" href=https://colab.research.google.com/notebooks/data_table.ipynb>data table notebook</a>'\n",
              "          + ' to learn more about interactive tables.';\n",
              "        element.innerHTML = '';\n",
              "        dataTable['output_type'] = 'display_data';\n",
              "        await google.colab.output.renderOutput(dataTable, element);\n",
              "        const docLink = document.createElement('div');\n",
              "        docLink.innerHTML = docLinkHtml;\n",
              "        element.appendChild(docLink);\n",
              "      }\n",
              "    </script>\n",
              "  </div>\n",
              "\n",
              "\n",
              "<div id=\"df-dbc81fac-aaed-4a47-bc5f-afc8fc078907\">\n",
              "  <button class=\"colab-df-quickchart\" onclick=\"quickchart('df-dbc81fac-aaed-4a47-bc5f-afc8fc078907')\"\n",
              "            title=\"Suggest charts\"\n",
              "            style=\"display:none;\">\n",
              "\n",
              "<svg xmlns=\"http://www.w3.org/2000/svg\" height=\"24px\"viewBox=\"0 0 24 24\"\n",
              "     width=\"24px\">\n",
              "    <g>\n",
              "        <path d=\"M19 3H5c-1.1 0-2 .9-2 2v14c0 1.1.9 2 2 2h14c1.1 0 2-.9 2-2V5c0-1.1-.9-2-2-2zM9 17H7v-7h2v7zm4 0h-2V7h2v10zm4 0h-2v-4h2v4z\"/>\n",
              "    </g>\n",
              "</svg>\n",
              "  </button>\n",
              "\n",
              "<style>\n",
              "  .colab-df-quickchart {\n",
              "      --bg-color: #E8F0FE;\n",
              "      --fill-color: #1967D2;\n",
              "      --hover-bg-color: #E2EBFA;\n",
              "      --hover-fill-color: #174EA6;\n",
              "      --disabled-fill-color: #AAA;\n",
              "      --disabled-bg-color: #DDD;\n",
              "  }\n",
              "\n",
              "  [theme=dark] .colab-df-quickchart {\n",
              "      --bg-color: #3B4455;\n",
              "      --fill-color: #D2E3FC;\n",
              "      --hover-bg-color: #434B5C;\n",
              "      --hover-fill-color: #FFFFFF;\n",
              "      --disabled-bg-color: #3B4455;\n",
              "      --disabled-fill-color: #666;\n",
              "  }\n",
              "\n",
              "  .colab-df-quickchart {\n",
              "    background-color: var(--bg-color);\n",
              "    border: none;\n",
              "    border-radius: 50%;\n",
              "    cursor: pointer;\n",
              "    display: none;\n",
              "    fill: var(--fill-color);\n",
              "    height: 32px;\n",
              "    padding: 0;\n",
              "    width: 32px;\n",
              "  }\n",
              "\n",
              "  .colab-df-quickchart:hover {\n",
              "    background-color: var(--hover-bg-color);\n",
              "    box-shadow: 0 1px 2px rgba(60, 64, 67, 0.3), 0 1px 3px 1px rgba(60, 64, 67, 0.15);\n",
              "    fill: var(--button-hover-fill-color);\n",
              "  }\n",
              "\n",
              "  .colab-df-quickchart-complete:disabled,\n",
              "  .colab-df-quickchart-complete:disabled:hover {\n",
              "    background-color: var(--disabled-bg-color);\n",
              "    fill: var(--disabled-fill-color);\n",
              "    box-shadow: none;\n",
              "  }\n",
              "\n",
              "  .colab-df-spinner {\n",
              "    border: 2px solid var(--fill-color);\n",
              "    border-color: transparent;\n",
              "    border-bottom-color: var(--fill-color);\n",
              "    animation:\n",
              "      spin 1s steps(1) infinite;\n",
              "  }\n",
              "\n",
              "  @keyframes spin {\n",
              "    0% {\n",
              "      border-color: transparent;\n",
              "      border-bottom-color: var(--fill-color);\n",
              "      border-left-color: var(--fill-color);\n",
              "    }\n",
              "    20% {\n",
              "      border-color: transparent;\n",
              "      border-left-color: var(--fill-color);\n",
              "      border-top-color: var(--fill-color);\n",
              "    }\n",
              "    30% {\n",
              "      border-color: transparent;\n",
              "      border-left-color: var(--fill-color);\n",
              "      border-top-color: var(--fill-color);\n",
              "      border-right-color: var(--fill-color);\n",
              "    }\n",
              "    40% {\n",
              "      border-color: transparent;\n",
              "      border-right-color: var(--fill-color);\n",
              "      border-top-color: var(--fill-color);\n",
              "    }\n",
              "    60% {\n",
              "      border-color: transparent;\n",
              "      border-right-color: var(--fill-color);\n",
              "    }\n",
              "    80% {\n",
              "      border-color: transparent;\n",
              "      border-right-color: var(--fill-color);\n",
              "      border-bottom-color: var(--fill-color);\n",
              "    }\n",
              "    90% {\n",
              "      border-color: transparent;\n",
              "      border-bottom-color: var(--fill-color);\n",
              "    }\n",
              "  }\n",
              "</style>\n",
              "\n",
              "  <script>\n",
              "    async function quickchart(key) {\n",
              "      const quickchartButtonEl =\n",
              "        document.querySelector('#' + key + ' button');\n",
              "      quickchartButtonEl.disabled = true;  // To prevent multiple clicks.\n",
              "      quickchartButtonEl.classList.add('colab-df-spinner');\n",
              "      try {\n",
              "        const charts = await google.colab.kernel.invokeFunction(\n",
              "            'suggestCharts', [key], {});\n",
              "      } catch (error) {\n",
              "        console.error('Error during call to suggestCharts:', error);\n",
              "      }\n",
              "      quickchartButtonEl.classList.remove('colab-df-spinner');\n",
              "      quickchartButtonEl.classList.add('colab-df-quickchart-complete');\n",
              "    }\n",
              "    (() => {\n",
              "      let quickchartButtonEl =\n",
              "        document.querySelector('#df-dbc81fac-aaed-4a47-bc5f-afc8fc078907 button');\n",
              "      quickchartButtonEl.style.display =\n",
              "        google.colab.kernel.accessAllowed ? 'block' : 'none';\n",
              "    })();\n",
              "  </script>\n",
              "</div>\n",
              "\n",
              "    </div>\n",
              "  </div>\n"
            ],
            "application/vnd.google.colaboratory.intrinsic+json": {
              "type": "dataframe",
              "variable_name": "data_2024",
              "summary": "{\n  \"name\": \"data_2024\",\n  \"rows\": 446,\n  \"fields\": [\n    {\n      \"column\": \"date\",\n      \"properties\": {\n        \"dtype\": \"object\",\n        \"num_unique_values\": 192,\n        \"samples\": [\n          \"2024-09-28 11:26\",\n          \"2024-09-28 13:12\",\n          \"2024-09-28 11:57\"\n        ],\n        \"semantic_type\": \"\",\n        \"description\": \"\"\n      }\n    },\n    {\n      \"column\": \"drop_off_location\",\n      \"properties\": {\n        \"dtype\": \"category\",\n        \"num_unique_values\": 7,\n        \"samples\": [\n          \"Londonberry Chapel\",\n          \"Gateway Stake Centre \",\n          \"Edmonton North Stake Centre\"\n        ],\n        \"semantic_type\": \"\",\n        \"description\": \"\"\n      }\n    },\n    {\n      \"column\": \"stake\",\n      \"properties\": {\n        \"dtype\": \"category\",\n        \"num_unique_values\": 5,\n        \"samples\": [\n          \"Gateway Stake\",\n          \"YSA Stake\",\n          \"Riverbend Stake\"\n        ],\n        \"semantic_type\": \"\",\n        \"description\": \"\"\n      }\n    },\n    {\n      \"column\": \"route_number/name\",\n      \"properties\": {\n        \"dtype\": \"string\",\n        \"num_unique_values\": 252,\n        \"samples\": [\n          \"138\",\n          \"Meyokumin 25 \",\n          \"Wellington C\"\n        ],\n        \"semantic_type\": \"\",\n        \"description\": \"\"\n      }\n    },\n    {\n      \"column\": \"time_spent_collecting_donations\",\n      \"properties\": {\n        \"dtype\": \"category\",\n        \"num_unique_values\": 4,\n        \"samples\": [\n          \"30 - 60 Minutes\",\n          \"90 - 120 Minutes\",\n          \"0 - 30 Minutes\"\n        ],\n        \"semantic_type\": \"\",\n        \"description\": \"\"\n      }\n    },\n    {\n      \"column\": \"#_of_adult_volunteers_who_participated_in_this_route\",\n      \"properties\": {\n        \"dtype\": \"number\",\n        \"std\": 0,\n        \"min\": 0,\n        \"max\": 6,\n        \"num_unique_values\": 7,\n        \"samples\": [\n          1,\n          2,\n          5\n        ],\n        \"semantic_type\": \"\",\n        \"description\": \"\"\n      }\n    },\n    {\n      \"column\": \"#_of_youth_volunteers_who_participated_in_this_route\",\n      \"properties\": {\n        \"dtype\": \"number\",\n        \"std\": 7,\n        \"min\": 0,\n        \"max\": 165,\n        \"num_unique_values\": 11,\n        \"samples\": [\n          165,\n          0,\n          8\n        ],\n        \"semantic_type\": \"\",\n        \"description\": \"\"\n      }\n    },\n    {\n      \"column\": \"#_of_doors_in_route\",\n      \"properties\": {\n        \"dtype\": \"number\",\n        \"std\": 155,\n        \"min\": 0,\n        \"max\": 1751,\n        \"num_unique_values\": 195,\n        \"samples\": [\n          207,\n          12,\n          278\n        ],\n        \"semantic_type\": \"\",\n        \"description\": \"\"\n      }\n    },\n    {\n      \"column\": \"#_of_donation_bags_collected\",\n      \"properties\": {\n        \"dtype\": \"number\",\n        \"std\": 33,\n        \"min\": 1,\n        \"max\": 500,\n        \"num_unique_values\": 77,\n        \"samples\": [\n          21,\n          42,\n          30\n        ],\n        \"semantic_type\": \"\",\n        \"description\": \"\"\n      }\n    },\n    {\n      \"column\": \"did_you_complete_more_than_1_route?\",\n      \"properties\": {\n        \"dtype\": \"category\",\n        \"num_unique_values\": 2,\n        \"samples\": [\n          \"Yes\",\n          \"No\"\n        ],\n        \"semantic_type\": \"\",\n        \"description\": \"\"\n      }\n    },\n    {\n      \"column\": \"Number of routes completed\",\n      \"properties\": {\n        \"dtype\": \"number\",\n        \"std\": 0,\n        \"min\": 1,\n        \"max\": 3,\n        \"num_unique_values\": 3,\n        \"samples\": [\n          1,\n          2\n        ],\n        \"semantic_type\": \"\",\n        \"description\": \"\"\n      }\n    },\n    {\n      \"column\": \"ward\",\n      \"properties\": {\n        \"dtype\": \"category\",\n        \"num_unique_values\": 24,\n        \"samples\": [\n          \"Connors Hill Ward\",\n          \"Greenfield Ward\"\n        ],\n        \"semantic_type\": \"\",\n        \"description\": \"\"\n      }\n    },\n    {\n      \"column\": \"Form Completion Time\",\n      \"properties\": {\n        \"dtype\": \"string\",\n        \"num_unique_values\": 300,\n        \"samples\": [\n          \"4 minutes 18 seconds\",\n          \"5 minutes 53 seconds\"\n        ],\n        \"semantic_type\": \"\",\n        \"description\": \"\"\n      }\n    },\n    {\n      \"column\": \"Total Volunteers\",\n      \"properties\": {\n        \"dtype\": \"number\",\n        \"std\": 7,\n        \"min\": 1,\n        \"max\": 167,\n        \"num_unique_values\": 14,\n        \"samples\": [\n          9,\n          8\n        ],\n        \"semantic_type\": \"\",\n        \"description\": \"\"\n      }\n    }\n  ]\n}"
            }
          },
          "metadata": {},
          "execution_count": 316
        }
      ]
    },
    {
      "cell_type": "code",
      "source": [
        "data_2023.head()"
      ],
      "metadata": {
        "colab": {
          "base_uri": "https://localhost:8080/",
          "height": 434
        },
        "id": "aLgAfjN1gK_x",
        "outputId": "98910a18-7b59-4dde-ac0c-355fb6a8e310"
      },
      "execution_count": 317,
      "outputs": [
        {
          "output_type": "execute_result",
          "data": {
            "text/plain": [
              "                  Date              Location              Stake  \\\n",
              "0  2023-09-23 10:36:10    Londonderry Chapel  Bonnie Doon Stake   \n",
              "1  2023-09-23 10:36:52  Gateway Stake Centre      Gateway Stake   \n",
              "2  2023-09-23 10:40:22  Gateway Stake Centre      Gateway Stake   \n",
              "3  2023-09-23 10:41:08  Gateway Stake Centre      Gateway Stake   \n",
              "4  2023-09-23 10:44:10    Londonderry Chapel  Bonnie Doon Stake   \n",
              "\n",
              "   # of Adult Volunteers  # of Youth Volunteers  Donation Bags Collected  \\\n",
              "0                      1                      3                       14   \n",
              "1                      3                      1                       18   \n",
              "2                      2                      0                       20   \n",
              "3                      2                      0                       20   \n",
              "4                      1                      0                        2   \n",
              "\n",
              "   Time to Complete (min)  Completed More Than One Route  \\\n",
              "0                    25.0                              0   \n",
              "1                    25.0                              1   \n",
              "2                    30.0                              0   \n",
              "3                    25.0                              1   \n",
              "4                     5.0                              0   \n",
              "\n",
              "            Ward/Branch  Routes Completed  Doors in Route  Time Spent  \n",
              "0        Clareview Ward                 2              14   25.000000  \n",
              "1  Crawford Plains Ward                 2             144   30.000000  \n",
              "2     Silver Berry Ward                 2             186   30.000000  \n",
              "3  Crawford Plains Ward                 1             194   30.000000  \n",
              "4      Londonderry Ward                 2               1  -30.269048  "
            ],
            "text/html": [
              "\n",
              "  <div id=\"df-aa893997-46cb-4cc3-a0a6-ae085104cedb\" class=\"colab-df-container\">\n",
              "    <div>\n",
              "<style scoped>\n",
              "    .dataframe tbody tr th:only-of-type {\n",
              "        vertical-align: middle;\n",
              "    }\n",
              "\n",
              "    .dataframe tbody tr th {\n",
              "        vertical-align: top;\n",
              "    }\n",
              "\n",
              "    .dataframe thead th {\n",
              "        text-align: right;\n",
              "    }\n",
              "</style>\n",
              "<table border=\"1\" class=\"dataframe\">\n",
              "  <thead>\n",
              "    <tr style=\"text-align: right;\">\n",
              "      <th></th>\n",
              "      <th>Date</th>\n",
              "      <th>Location</th>\n",
              "      <th>Stake</th>\n",
              "      <th># of Adult Volunteers</th>\n",
              "      <th># of Youth Volunteers</th>\n",
              "      <th>Donation Bags Collected</th>\n",
              "      <th>Time to Complete (min)</th>\n",
              "      <th>Completed More Than One Route</th>\n",
              "      <th>Ward/Branch</th>\n",
              "      <th>Routes Completed</th>\n",
              "      <th>Doors in Route</th>\n",
              "      <th>Time Spent</th>\n",
              "    </tr>\n",
              "  </thead>\n",
              "  <tbody>\n",
              "    <tr>\n",
              "      <th>0</th>\n",
              "      <td>2023-09-23 10:36:10</td>\n",
              "      <td>Londonderry Chapel</td>\n",
              "      <td>Bonnie Doon Stake</td>\n",
              "      <td>1</td>\n",
              "      <td>3</td>\n",
              "      <td>14</td>\n",
              "      <td>25.0</td>\n",
              "      <td>0</td>\n",
              "      <td>Clareview Ward</td>\n",
              "      <td>2</td>\n",
              "      <td>14</td>\n",
              "      <td>25.000000</td>\n",
              "    </tr>\n",
              "    <tr>\n",
              "      <th>1</th>\n",
              "      <td>2023-09-23 10:36:52</td>\n",
              "      <td>Gateway Stake Centre</td>\n",
              "      <td>Gateway Stake</td>\n",
              "      <td>3</td>\n",
              "      <td>1</td>\n",
              "      <td>18</td>\n",
              "      <td>25.0</td>\n",
              "      <td>1</td>\n",
              "      <td>Crawford Plains Ward</td>\n",
              "      <td>2</td>\n",
              "      <td>144</td>\n",
              "      <td>30.000000</td>\n",
              "    </tr>\n",
              "    <tr>\n",
              "      <th>2</th>\n",
              "      <td>2023-09-23 10:40:22</td>\n",
              "      <td>Gateway Stake Centre</td>\n",
              "      <td>Gateway Stake</td>\n",
              "      <td>2</td>\n",
              "      <td>0</td>\n",
              "      <td>20</td>\n",
              "      <td>30.0</td>\n",
              "      <td>0</td>\n",
              "      <td>Silver Berry Ward</td>\n",
              "      <td>2</td>\n",
              "      <td>186</td>\n",
              "      <td>30.000000</td>\n",
              "    </tr>\n",
              "    <tr>\n",
              "      <th>3</th>\n",
              "      <td>2023-09-23 10:41:08</td>\n",
              "      <td>Gateway Stake Centre</td>\n",
              "      <td>Gateway Stake</td>\n",
              "      <td>2</td>\n",
              "      <td>0</td>\n",
              "      <td>20</td>\n",
              "      <td>25.0</td>\n",
              "      <td>1</td>\n",
              "      <td>Crawford Plains Ward</td>\n",
              "      <td>1</td>\n",
              "      <td>194</td>\n",
              "      <td>30.000000</td>\n",
              "    </tr>\n",
              "    <tr>\n",
              "      <th>4</th>\n",
              "      <td>2023-09-23 10:44:10</td>\n",
              "      <td>Londonderry Chapel</td>\n",
              "      <td>Bonnie Doon Stake</td>\n",
              "      <td>1</td>\n",
              "      <td>0</td>\n",
              "      <td>2</td>\n",
              "      <td>5.0</td>\n",
              "      <td>0</td>\n",
              "      <td>Londonderry Ward</td>\n",
              "      <td>2</td>\n",
              "      <td>1</td>\n",
              "      <td>-30.269048</td>\n",
              "    </tr>\n",
              "  </tbody>\n",
              "</table>\n",
              "</div>\n",
              "    <div class=\"colab-df-buttons\">\n",
              "\n",
              "  <div class=\"colab-df-container\">\n",
              "    <button class=\"colab-df-convert\" onclick=\"convertToInteractive('df-aa893997-46cb-4cc3-a0a6-ae085104cedb')\"\n",
              "            title=\"Convert this dataframe to an interactive table.\"\n",
              "            style=\"display:none;\">\n",
              "\n",
              "  <svg xmlns=\"http://www.w3.org/2000/svg\" height=\"24px\" viewBox=\"0 -960 960 960\">\n",
              "    <path d=\"M120-120v-720h720v720H120Zm60-500h600v-160H180v160Zm220 220h160v-160H400v160Zm0 220h160v-160H400v160ZM180-400h160v-160H180v160Zm440 0h160v-160H620v160ZM180-180h160v-160H180v160Zm440 0h160v-160H620v160Z\"/>\n",
              "  </svg>\n",
              "    </button>\n",
              "\n",
              "  <style>\n",
              "    .colab-df-container {\n",
              "      display:flex;\n",
              "      gap: 12px;\n",
              "    }\n",
              "\n",
              "    .colab-df-convert {\n",
              "      background-color: #E8F0FE;\n",
              "      border: none;\n",
              "      border-radius: 50%;\n",
              "      cursor: pointer;\n",
              "      display: none;\n",
              "      fill: #1967D2;\n",
              "      height: 32px;\n",
              "      padding: 0 0 0 0;\n",
              "      width: 32px;\n",
              "    }\n",
              "\n",
              "    .colab-df-convert:hover {\n",
              "      background-color: #E2EBFA;\n",
              "      box-shadow: 0px 1px 2px rgba(60, 64, 67, 0.3), 0px 1px 3px 1px rgba(60, 64, 67, 0.15);\n",
              "      fill: #174EA6;\n",
              "    }\n",
              "\n",
              "    .colab-df-buttons div {\n",
              "      margin-bottom: 4px;\n",
              "    }\n",
              "\n",
              "    [theme=dark] .colab-df-convert {\n",
              "      background-color: #3B4455;\n",
              "      fill: #D2E3FC;\n",
              "    }\n",
              "\n",
              "    [theme=dark] .colab-df-convert:hover {\n",
              "      background-color: #434B5C;\n",
              "      box-shadow: 0px 1px 3px 1px rgba(0, 0, 0, 0.15);\n",
              "      filter: drop-shadow(0px 1px 2px rgba(0, 0, 0, 0.3));\n",
              "      fill: #FFFFFF;\n",
              "    }\n",
              "  </style>\n",
              "\n",
              "    <script>\n",
              "      const buttonEl =\n",
              "        document.querySelector('#df-aa893997-46cb-4cc3-a0a6-ae085104cedb button.colab-df-convert');\n",
              "      buttonEl.style.display =\n",
              "        google.colab.kernel.accessAllowed ? 'block' : 'none';\n",
              "\n",
              "      async function convertToInteractive(key) {\n",
              "        const element = document.querySelector('#df-aa893997-46cb-4cc3-a0a6-ae085104cedb');\n",
              "        const dataTable =\n",
              "          await google.colab.kernel.invokeFunction('convertToInteractive',\n",
              "                                                    [key], {});\n",
              "        if (!dataTable) return;\n",
              "\n",
              "        const docLinkHtml = 'Like what you see? Visit the ' +\n",
              "          '<a target=\"_blank\" href=https://colab.research.google.com/notebooks/data_table.ipynb>data table notebook</a>'\n",
              "          + ' to learn more about interactive tables.';\n",
              "        element.innerHTML = '';\n",
              "        dataTable['output_type'] = 'display_data';\n",
              "        await google.colab.output.renderOutput(dataTable, element);\n",
              "        const docLink = document.createElement('div');\n",
              "        docLink.innerHTML = docLinkHtml;\n",
              "        element.appendChild(docLink);\n",
              "      }\n",
              "    </script>\n",
              "  </div>\n",
              "\n",
              "\n",
              "<div id=\"df-e80d964c-355d-4d37-abdb-1ec5e79bf191\">\n",
              "  <button class=\"colab-df-quickchart\" onclick=\"quickchart('df-e80d964c-355d-4d37-abdb-1ec5e79bf191')\"\n",
              "            title=\"Suggest charts\"\n",
              "            style=\"display:none;\">\n",
              "\n",
              "<svg xmlns=\"http://www.w3.org/2000/svg\" height=\"24px\"viewBox=\"0 0 24 24\"\n",
              "     width=\"24px\">\n",
              "    <g>\n",
              "        <path d=\"M19 3H5c-1.1 0-2 .9-2 2v14c0 1.1.9 2 2 2h14c1.1 0 2-.9 2-2V5c0-1.1-.9-2-2-2zM9 17H7v-7h2v7zm4 0h-2V7h2v10zm4 0h-2v-4h2v4z\"/>\n",
              "    </g>\n",
              "</svg>\n",
              "  </button>\n",
              "\n",
              "<style>\n",
              "  .colab-df-quickchart {\n",
              "      --bg-color: #E8F0FE;\n",
              "      --fill-color: #1967D2;\n",
              "      --hover-bg-color: #E2EBFA;\n",
              "      --hover-fill-color: #174EA6;\n",
              "      --disabled-fill-color: #AAA;\n",
              "      --disabled-bg-color: #DDD;\n",
              "  }\n",
              "\n",
              "  [theme=dark] .colab-df-quickchart {\n",
              "      --bg-color: #3B4455;\n",
              "      --fill-color: #D2E3FC;\n",
              "      --hover-bg-color: #434B5C;\n",
              "      --hover-fill-color: #FFFFFF;\n",
              "      --disabled-bg-color: #3B4455;\n",
              "      --disabled-fill-color: #666;\n",
              "  }\n",
              "\n",
              "  .colab-df-quickchart {\n",
              "    background-color: var(--bg-color);\n",
              "    border: none;\n",
              "    border-radius: 50%;\n",
              "    cursor: pointer;\n",
              "    display: none;\n",
              "    fill: var(--fill-color);\n",
              "    height: 32px;\n",
              "    padding: 0;\n",
              "    width: 32px;\n",
              "  }\n",
              "\n",
              "  .colab-df-quickchart:hover {\n",
              "    background-color: var(--hover-bg-color);\n",
              "    box-shadow: 0 1px 2px rgba(60, 64, 67, 0.3), 0 1px 3px 1px rgba(60, 64, 67, 0.15);\n",
              "    fill: var(--button-hover-fill-color);\n",
              "  }\n",
              "\n",
              "  .colab-df-quickchart-complete:disabled,\n",
              "  .colab-df-quickchart-complete:disabled:hover {\n",
              "    background-color: var(--disabled-bg-color);\n",
              "    fill: var(--disabled-fill-color);\n",
              "    box-shadow: none;\n",
              "  }\n",
              "\n",
              "  .colab-df-spinner {\n",
              "    border: 2px solid var(--fill-color);\n",
              "    border-color: transparent;\n",
              "    border-bottom-color: var(--fill-color);\n",
              "    animation:\n",
              "      spin 1s steps(1) infinite;\n",
              "  }\n",
              "\n",
              "  @keyframes spin {\n",
              "    0% {\n",
              "      border-color: transparent;\n",
              "      border-bottom-color: var(--fill-color);\n",
              "      border-left-color: var(--fill-color);\n",
              "    }\n",
              "    20% {\n",
              "      border-color: transparent;\n",
              "      border-left-color: var(--fill-color);\n",
              "      border-top-color: var(--fill-color);\n",
              "    }\n",
              "    30% {\n",
              "      border-color: transparent;\n",
              "      border-left-color: var(--fill-color);\n",
              "      border-top-color: var(--fill-color);\n",
              "      border-right-color: var(--fill-color);\n",
              "    }\n",
              "    40% {\n",
              "      border-color: transparent;\n",
              "      border-right-color: var(--fill-color);\n",
              "      border-top-color: var(--fill-color);\n",
              "    }\n",
              "    60% {\n",
              "      border-color: transparent;\n",
              "      border-right-color: var(--fill-color);\n",
              "    }\n",
              "    80% {\n",
              "      border-color: transparent;\n",
              "      border-right-color: var(--fill-color);\n",
              "      border-bottom-color: var(--fill-color);\n",
              "    }\n",
              "    90% {\n",
              "      border-color: transparent;\n",
              "      border-bottom-color: var(--fill-color);\n",
              "    }\n",
              "  }\n",
              "</style>\n",
              "\n",
              "  <script>\n",
              "    async function quickchart(key) {\n",
              "      const quickchartButtonEl =\n",
              "        document.querySelector('#' + key + ' button');\n",
              "      quickchartButtonEl.disabled = true;  // To prevent multiple clicks.\n",
              "      quickchartButtonEl.classList.add('colab-df-spinner');\n",
              "      try {\n",
              "        const charts = await google.colab.kernel.invokeFunction(\n",
              "            'suggestCharts', [key], {});\n",
              "      } catch (error) {\n",
              "        console.error('Error during call to suggestCharts:', error);\n",
              "      }\n",
              "      quickchartButtonEl.classList.remove('colab-df-spinner');\n",
              "      quickchartButtonEl.classList.add('colab-df-quickchart-complete');\n",
              "    }\n",
              "    (() => {\n",
              "      let quickchartButtonEl =\n",
              "        document.querySelector('#df-e80d964c-355d-4d37-abdb-1ec5e79bf191 button');\n",
              "      quickchartButtonEl.style.display =\n",
              "        google.colab.kernel.accessAllowed ? 'block' : 'none';\n",
              "    })();\n",
              "  </script>\n",
              "</div>\n",
              "\n",
              "    </div>\n",
              "  </div>\n"
            ],
            "application/vnd.google.colaboratory.intrinsic+json": {
              "type": "dataframe",
              "variable_name": "data_2023",
              "summary": "{\n  \"name\": \"data_2023\",\n  \"rows\": 454,\n  \"fields\": [\n    {\n      \"column\": \"Date\",\n      \"properties\": {\n        \"dtype\": \"object\",\n        \"num_unique_values\": 441,\n        \"samples\": [\n          \"2023-09-23 11:28:25\",\n          \"2023-10-15 11:15:43\",\n          \"2023-09-23 11:50:39\"\n        ],\n        \"semantic_type\": \"\",\n        \"description\": \"\"\n      }\n    },\n    {\n      \"column\": \"Location\",\n      \"properties\": {\n        \"dtype\": \"category\",\n        \"num_unique_values\": 10,\n        \"samples\": [\n          \"Morinville\",\n          \"Gateway Stake Centre\",\n          \"North Stake Centre\"\n        ],\n        \"semantic_type\": \"\",\n        \"description\": \"\"\n      }\n    },\n    {\n      \"column\": \"Stake\",\n      \"properties\": {\n        \"dtype\": \"category\",\n        \"num_unique_values\": 5,\n        \"samples\": [\n          \"Gateway Stake\",\n          \"YSA Stake\",\n          \"Edmonton North Stake\"\n        ],\n        \"semantic_type\": \"\",\n        \"description\": \"\"\n      }\n    },\n    {\n      \"column\": \"# of Adult Volunteers\",\n      \"properties\": {\n        \"dtype\": \"number\",\n        \"std\": 3,\n        \"min\": 0,\n        \"max\": 46,\n        \"num_unique_values\": 15,\n        \"samples\": [\n          24,\n          0,\n          1\n        ],\n        \"semantic_type\": \"\",\n        \"description\": \"\"\n      }\n    },\n    {\n      \"column\": \"# of Youth Volunteers\",\n      \"properties\": {\n        \"dtype\": \"number\",\n        \"std\": 1,\n        \"min\": 0,\n        \"max\": 20,\n        \"num_unique_values\": 11,\n        \"samples\": [\n          5,\n          3,\n          9\n        ],\n        \"semantic_type\": \"\",\n        \"description\": \"\"\n      }\n    },\n    {\n      \"column\": \"Donation Bags Collected\",\n      \"properties\": {\n        \"dtype\": \"number\",\n        \"std\": 35,\n        \"min\": 1,\n        \"max\": 555,\n        \"num_unique_values\": 81,\n        \"samples\": [\n          27,\n          14,\n          33\n        ],\n        \"semantic_type\": \"\",\n        \"description\": \"\"\n      }\n    },\n    {\n      \"column\": \"Time to Complete (min)\",\n      \"properties\": {\n        \"dtype\": \"number\",\n        \"std\": 34.93829530270703,\n        \"min\": 1.0,\n        \"max\": 245.0,\n        \"num_unique_values\": 57,\n        \"samples\": [\n          25.0,\n          60.0,\n          245.0\n        ],\n        \"semantic_type\": \"\",\n        \"description\": \"\"\n      }\n    },\n    {\n      \"column\": \"Completed More Than One Route\",\n      \"properties\": {\n        \"dtype\": \"number\",\n        \"std\": 0,\n        \"min\": 0,\n        \"max\": 1,\n        \"num_unique_values\": 2,\n        \"samples\": [\n          1,\n          0\n        ],\n        \"semantic_type\": \"\",\n        \"description\": \"\"\n      }\n    },\n    {\n      \"column\": \"Ward/Branch\",\n      \"properties\": {\n        \"dtype\": \"category\",\n        \"num_unique_values\": 29,\n        \"samples\": [\n          \"Onoway Ward\",\n          \"Woodbend Ward\"\n        ],\n        \"semantic_type\": \"\",\n        \"description\": \"\"\n      }\n    },\n    {\n      \"column\": \"Routes Completed\",\n      \"properties\": {\n        \"dtype\": \"number\",\n        \"std\": 0,\n        \"min\": 1,\n        \"max\": 8,\n        \"num_unique_values\": 8,\n        \"samples\": [\n          1,\n          8\n        ],\n        \"semantic_type\": \"\",\n        \"description\": \"\"\n      }\n    },\n    {\n      \"column\": \"Doors in Route\",\n      \"properties\": {\n        \"dtype\": \"number\",\n        \"std\": 173,\n        \"min\": 1,\n        \"max\": 2500,\n        \"num_unique_values\": 200,\n        \"samples\": [\n          121,\n          12\n        ],\n        \"semantic_type\": \"\",\n        \"description\": \"\"\n      }\n    },\n    {\n      \"column\": \"Time Spent\",\n      \"properties\": {\n        \"dtype\": \"number\",\n        \"std\": 240.65579368108217,\n        \"min\": -690.0,\n        \"max\": 754.0,\n        \"num_unique_values\": 116,\n        \"samples\": [\n          -610.0,\n          22.0\n        ],\n        \"semantic_type\": \"\",\n        \"description\": \"\"\n      }\n    }\n  ]\n}"
            }
          },
          "metadata": {},
          "execution_count": 317
        }
      ]
    },
    {
      "cell_type": "markdown",
      "source": [
        "\n",
        "Feature Engineering"
      ],
      "metadata": {
        "id": "vVM14HqWfux-"
      }
    },
    {
      "cell_type": "code",
      "source": [
        "data_2024.columns"
      ],
      "metadata": {
        "colab": {
          "base_uri": "https://localhost:8080/"
        },
        "id": "SWiNnb4Ngr8O",
        "outputId": "69f90157-25b4-46bc-e209-edf44865fc87"
      },
      "execution_count": 318,
      "outputs": [
        {
          "output_type": "execute_result",
          "data": {
            "text/plain": [
              "Index(['date', 'drop_off_location', 'stake', 'route_number/name',\n",
              "       'time_spent_collecting_donations',\n",
              "       '#_of_adult_volunteers_who_participated_in_this_route',\n",
              "       '#_of_youth_volunteers_who_participated_in_this_route',\n",
              "       '#_of_doors_in_route', '#_of_donation_bags_collected',\n",
              "       'did_you_complete_more_than_1_route?', 'Number of routes completed',\n",
              "       'ward', 'Form Completion Time', 'Total Volunteers'],\n",
              "      dtype='object')"
            ]
          },
          "metadata": {},
          "execution_count": 318
        }
      ]
    },
    {
      "cell_type": "code",
      "source": [
        "data_2023.columns"
      ],
      "metadata": {
        "colab": {
          "base_uri": "https://localhost:8080/"
        },
        "id": "5TtJvhOYgvQ-",
        "outputId": "2a25fc67-0b26-4497-bd40-c3009ab0d5e9"
      },
      "execution_count": 319,
      "outputs": [
        {
          "output_type": "execute_result",
          "data": {
            "text/plain": [
              "Index(['Date', 'Location', 'Stake', '# of Adult Volunteers',\n",
              "       '# of Youth Volunteers', 'Donation Bags Collected',\n",
              "       'Time to Complete (min)', 'Completed More Than One Route',\n",
              "       'Ward/Branch', 'Routes Completed', 'Doors in Route', 'Time Spent'],\n",
              "      dtype='object')"
            ]
          },
          "metadata": {},
          "execution_count": 319
        }
      ]
    },
    {
      "cell_type": "code",
      "execution_count": 320,
      "metadata": {
        "id": "f3aVfna-wjNq"
      },
      "outputs": [],
      "source": [
        "#drop the time spent in 2023 data\n",
        "\n",
        "data_2023 = data_2023.drop(columns = ['Time Spent', 'Date'])"
      ]
    },
    {
      "cell_type": "code",
      "source": [
        "data_2024 = data_2024.drop(columns = ['Form Completion Time', 'date', 'route_number/name', 'Total Volunteers'])"
      ],
      "metadata": {
        "id": "hNhvDMhsg2iD"
      },
      "execution_count": 321,
      "outputs": []
    },
    {
      "cell_type": "code",
      "execution_count": 322,
      "metadata": {
        "id": "yQcLbd90wwaN"
      },
      "outputs": [],
      "source": [
        "# Renaming columns in data_2023 to match data_2024\n",
        "data_2023 = data_2023.rename(columns={\n",
        "\n",
        "    'Location': 'drop_off_location',\n",
        "    'Stake': 'stake',\n",
        "    'Time to Complete (min)': 'time_spent_collecting_donations',\n",
        "    'Number of routes completed': 'Number of routes completed',\n",
        "    'Doors in Route': '#_of_doors_in_route',\n",
        "    'Donation Bags Collected': '#_of_donation_bags_collected',\n",
        "    'Routes Completed': 'Number of routes completed',\n",
        "    'Ward/Branch': 'ward',\n",
        "    '# of Adult Volunteers': '#_of_adult_volunteers_who_participated_in_this_route',\n",
        "    '# of Youth Volunteers': '#_of_youth_volunteers_who_participated_in_this_route',\n",
        "    'Completed More Than One Route': 'did_you_complete_more_than_1_route?'\n",
        "\n",
        "\n",
        "})\n",
        "\n"
      ]
    },
    {
      "cell_type": "code",
      "source": [
        "data_2023.columns"
      ],
      "metadata": {
        "colab": {
          "base_uri": "https://localhost:8080/"
        },
        "id": "EP5RonbliIMc",
        "outputId": "3f1259ec-1411-408b-add4-938c05624dac"
      },
      "execution_count": 323,
      "outputs": [
        {
          "output_type": "execute_result",
          "data": {
            "text/plain": [
              "Index(['drop_off_location', 'stake',\n",
              "       '#_of_adult_volunteers_who_participated_in_this_route',\n",
              "       '#_of_youth_volunteers_who_participated_in_this_route',\n",
              "       '#_of_donation_bags_collected', 'time_spent_collecting_donations',\n",
              "       'did_you_complete_more_than_1_route?', 'ward',\n",
              "       'Number of routes completed', '#_of_doors_in_route'],\n",
              "      dtype='object')"
            ]
          },
          "metadata": {},
          "execution_count": 323
        }
      ]
    },
    {
      "cell_type": "code",
      "source": [
        "data_2024.columns"
      ],
      "metadata": {
        "colab": {
          "base_uri": "https://localhost:8080/"
        },
        "id": "XjLXHERviMGw",
        "outputId": "88f215e7-c273-43f6-b096-32b14e8f2b05"
      },
      "execution_count": 324,
      "outputs": [
        {
          "output_type": "execute_result",
          "data": {
            "text/plain": [
              "Index(['drop_off_location', 'stake', 'time_spent_collecting_donations',\n",
              "       '#_of_adult_volunteers_who_participated_in_this_route',\n",
              "       '#_of_youth_volunteers_who_participated_in_this_route',\n",
              "       '#_of_doors_in_route', '#_of_donation_bags_collected',\n",
              "       'did_you_complete_more_than_1_route?', 'Number of routes completed',\n",
              "       'ward'],\n",
              "      dtype='object')"
            ]
          },
          "metadata": {},
          "execution_count": 324
        }
      ]
    },
    {
      "cell_type": "code",
      "source": [
        "data_2024['time_spent_collecting_donations'].unique()"
      ],
      "metadata": {
        "colab": {
          "base_uri": "https://localhost:8080/"
        },
        "id": "8MiBBWzrjL5E",
        "outputId": "c03e1793-c4c7-4c1b-b5e9-5e4419b9e904"
      },
      "execution_count": 325,
      "outputs": [
        {
          "output_type": "execute_result",
          "data": {
            "text/plain": [
              "array(['0 - 30 Minutes', '30 - 60 Minutes', '60 - 90 Minutes',\n",
              "       '90 - 120 Minutes'], dtype=object)"
            ]
          },
          "metadata": {},
          "execution_count": 325
        }
      ]
    },
    {
      "cell_type": "code",
      "source": [
        "data_2023['time_spent_collecting_donations'].unique()"
      ],
      "metadata": {
        "colab": {
          "base_uri": "https://localhost:8080/"
        },
        "id": "p2vXkwnGjkDh",
        "outputId": "c7234c01-a556-4d4c-ae29-5bfb8eb8dcd9"
      },
      "execution_count": 326,
      "outputs": [
        {
          "output_type": "execute_result",
          "data": {
            "text/plain": [
              "array([ 25. ,  30. ,   5. ,  20. ,  45. ,  60. ,  40. ,  55. ,  63. ,\n",
              "       180. ,  32. ,  50. ,  35. , 100. ,  17. ,  70. ,  58. , 120. ,\n",
              "        75. ,  15. ,  90. ,  47. ,  10. ,   1. , 105. ,   3. ,  52. ,\n",
              "        44. , 110. , 150. , 245. ,  49. ,  51. ,  28. ,  24. ,  80. ,\n",
              "        57. ,  18.5,  34. ,  37. ,  23. ,  27. ,  65. , 240. , 115. ,\n",
              "        62. ,  69. ,  26. ,  38. , 125. , 140. , 170. , 165. , 135. ,\n",
              "       112. ,  72. ,   2. ])"
            ]
          },
          "metadata": {},
          "execution_count": 326
        }
      ]
    },
    {
      "cell_type": "markdown",
      "source": [
        "Transform the 'time spent collecting donations' column in 2024 into single numbers"
      ],
      "metadata": {
        "id": "sDeYI2usjvhR"
      }
    },
    {
      "source": [
        "data_2024['time_spent_collecting_donations'] = data_2024['time_spent_collecting_donations'].str.replace('0 - 30 Minutes', '15') \\\n",
        "                                                                                               .str.replace('30 - 60 Minutes', '45') \\\n",
        "                                                                                               .str.replace('60 - 90 Minutes', '75') \\\n",
        "                                                                                               .str.replace('90 - 120 Minutes', '105')\n",
        ""
      ],
      "cell_type": "code",
      "metadata": {
        "id": "CwT8VlvYlwqn"
      },
      "execution_count": 327,
      "outputs": []
    },
    {
      "cell_type": "markdown",
      "source": [
        "Filter 2023 and 2024 datasets to contain the same wards information"
      ],
      "metadata": {
        "id": "35SDTtktuh2E"
      }
    },
    {
      "cell_type": "code",
      "execution_count": 328,
      "metadata": {
        "collapsed": true,
        "id": "Ug5_mvyDu98E"
      },
      "outputs": [],
      "source": [
        "# Get unique wards in both datasets\n",
        "data_2023_wards = set(data_2023['ward'].unique())\n",
        "data_2024_wards = set(data_2024['ward'].unique())\n",
        "\n",
        "# Find wards that appear in both datasets\n",
        "common_wards = data_2023_wards.intersection(data_2024_wards)\n",
        "\n",
        "# Filter data_2023_copy and data_2024_copy to keep only rows with common wards\n",
        "data_2023 = data_2023[data_2023['ward'].isin(common_wards)].reset_index(drop=True)\n",
        "data_2024 = data_2024[data_2024['ward'].isin(common_wards)].reset_index(drop=True)\n"
      ]
    },
    {
      "cell_type": "markdown",
      "metadata": {
        "id": "oFtdkOK7e3lR"
      },
      "source": [
        "## **Predictions for number of donation bags collected per route**"
      ]
    },
    {
      "cell_type": "markdown",
      "source": [
        "Train-test split"
      ],
      "metadata": {
        "id": "aSxCeiVIxTGE"
      }
    },
    {
      "cell_type": "code",
      "execution_count": 329,
      "metadata": {
        "id": "JMj3c2ROXmuB"
      },
      "outputs": [],
      "source": [
        "# Use only 2023 as the train model\n",
        "X_2023 = data_2023[['#_of_adult_volunteers_who_participated_in_this_route', '#_of_youth_volunteers_who_participated_in_this_route', 'ward', 'time_spent_collecting_donations',  'Number of routes completed', '#_of_doors_in_route']]\n",
        "y_2023 = data_2023['#_of_donation_bags_collected']\n",
        "\n",
        "# Use only 2024 for testing\n",
        "X_2024 = data_2024[['#_of_adult_volunteers_who_participated_in_this_route', '#_of_youth_volunteers_who_participated_in_this_route', 'time_spent_collecting_donations', 'ward', 'Number of routes completed', '#_of_doors_in_route']]\n",
        "y_2024 = data_2024['#_of_donation_bags_collected']\n",
        "\n",
        "X_train = X_2023\n",
        "y_train = y_2023\n",
        "X_test = X_2024\n",
        "y_test = y_2024"
      ]
    },
    {
      "cell_type": "markdown",
      "source": [
        "Encoding categorical variables"
      ],
      "metadata": {
        "id": "Em_airy0xWvN"
      }
    },
    {
      "cell_type": "code",
      "execution_count": 330,
      "metadata": {
        "collapsed": true,
        "id": "n6vQtRAbidf3"
      },
      "outputs": [],
      "source": [
        "\n",
        "# Initialize OneHotEncoder with handle_unknown='ignore' to avoid errors for missing categories in test data\n",
        "ohe = OneHotEncoder(sparse_output=False, handle_unknown='ignore')\n",
        "\n",
        "# Fit and transform on the training data, then transform on the test data\n",
        "encoded_ward_train = ohe.fit_transform(X_train[['ward']])\n",
        "encoded_ward_test = ohe.transform(X_test[['ward']])\n",
        "\n",
        "# Convert encoded arrays to DataFrames with column names\n",
        "encoded_ward_train_df = pd.DataFrame(encoded_ward_train, columns=ohe.get_feature_names_out(['ward']), dtype=int)\n",
        "encoded_ward_test_df = pd.DataFrame(encoded_ward_test, columns=ohe.get_feature_names_out(['ward']), dtype=int)\n",
        "\n",
        "# Align columns in both train and test sets to ensure they match\n",
        "encoded_ward_train_df, encoded_ward_test_df = encoded_ward_train_df.align(encoded_ward_test_df, fill_value=0, axis=1)\n",
        "\n",
        "# Drop the original 'ward' column from X_train and X_test\n",
        "X_train = X_train.drop(columns=['ward']).reset_index(drop=True)\n",
        "X_test = X_test.drop(columns=['ward']).reset_index(drop=True)\n",
        "\n",
        "# Concatenate the original DataFrames with the encoded columns\n",
        "X_train = pd.concat([X_train, encoded_ward_train_df], axis=1)\n",
        "X_test = pd.concat([X_test, encoded_ward_test_df], axis=1)\n",
        "\n"
      ]
    },
    {
      "cell_type": "code",
      "source": [
        "# Standardize features (required for KNN)\n",
        "scaler = StandardScaler()\n",
        "X_train = scaler.fit_transform(X_train)\n",
        "X_test = scaler.transform(X_test)"
      ],
      "metadata": {
        "id": "NQuYgBUW0rOc"
      },
      "execution_count": 331,
      "outputs": []
    },
    {
      "cell_type": "code",
      "execution_count": 332,
      "metadata": {
        "colab": {
          "base_uri": "https://localhost:8080/"
        },
        "id": "Ivq8KhhpXsg9",
        "outputId": "92a51e1d-7b82-4595-e347-e79dcb18ab4d"
      },
      "outputs": [
        {
          "output_type": "stream",
          "name": "stdout",
          "text": [
            "Root Mean Squared Error: 36.118284728985664\n"
          ]
        }
      ],
      "source": [
        "# Fit a regression model to predict the number of donation bags\n",
        "model = LinearRegression()\n",
        "model.fit(X_train, y_train)\n",
        "\n",
        "# Continue with model training and prediction\n",
        "y_pred = model.predict(X_test)\n",
        "\n",
        "\n",
        "# Evaluate the model using root mean squared error\n",
        "rmse = root_mean_squared_error(y_test, y_pred)\n",
        "print(f\"Root Mean Squared Error: {rmse}\")"
      ]
    },
    {
      "cell_type": "markdown",
      "source": [
        "Implementing other models"
      ],
      "metadata": {
        "id": "R4v7Gu3H0-C1"
      }
    },
    {
      "cell_type": "code",
      "source": [
        "\n",
        "# Define models and their parameters\n",
        "models = {\n",
        "    \"Decision Tree\": DecisionTreeRegressor(max_depth=5),\n",
        "    \"K-Nearest Neighbors (KNN)\": KNeighborsRegressor(n_neighbors=5),\n",
        "    \"Random Forest\": RandomForestRegressor(n_estimators=100),\n",
        "    \"Gradient Boosting\": GradientBoostingRegressor(n_estimators=100, learning_rate=0.1)\n",
        "}\n",
        "\n",
        "# Train, predict, and evaluate models\n",
        "for model_name, model in models.items():\n",
        "    model.fit(X_train, y_train)\n",
        "    y_pred = model.predict(X_test)\n",
        "\n",
        "    # Calculate metrics\n",
        "    r2 = r2_score(y_test, y_pred)\n",
        "    mse = mean_squared_error(y_test, y_pred)\n",
        "    rmse = np.sqrt(mse)\n",
        "    mae = mean_absolute_error(y_test, y_pred)\n",
        "\n",
        "    # Print evaluation results\n",
        "    print(f\"\\n{model_name} Performance:\")\n",
        "    print(f\"R-squared: {r2:.4f}\")\n",
        "    print(f\"Mean Absolute Error (MAE): {mae:.4f}\")\n",
        "    print(f\"Mean Squared Error (MSE): {mse:.4f}\")\n",
        "    print(f\"Root Mean Squared Error (RMSE): {rmse:.4f}\")\n"
      ],
      "metadata": {
        "colab": {
          "base_uri": "https://localhost:8080/"
        },
        "id": "_4YIltj82Ye3",
        "outputId": "446c07af-16ec-4978-8177-0bdc7f8c272f"
      },
      "execution_count": 333,
      "outputs": [
        {
          "output_type": "stream",
          "name": "stdout",
          "text": [
            "\n",
            "Decision Tree Performance:\n",
            "R-squared: -0.4321\n",
            "Mean Absolute Error (MAE): 15.9154\n",
            "Mean Squared Error (MSE): 1654.4077\n",
            "Root Mean Squared Error (RMSE): 40.6744\n",
            "\n",
            "K-Nearest Neighbors (KNN) Performance:\n",
            "R-squared: 0.0419\n",
            "Mean Absolute Error (MAE): 13.9388\n",
            "Mean Squared Error (MSE): 1106.8264\n",
            "Root Mean Squared Error (RMSE): 33.2690\n",
            "\n",
            "Random Forest Performance:\n",
            "R-squared: 0.1277\n",
            "Mean Absolute Error (MAE): 13.5533\n",
            "Mean Squared Error (MSE): 1007.7201\n",
            "Root Mean Squared Error (RMSE): 31.7446\n",
            "\n",
            "Gradient Boosting Performance:\n",
            "R-squared: 0.1110\n",
            "Mean Absolute Error (MAE): 13.7849\n",
            "Mean Squared Error (MSE): 1026.9826\n",
            "Root Mean Squared Error (RMSE): 32.0466\n"
          ]
        }
      ]
    },
    {
      "cell_type": "markdown",
      "metadata": {
        "id": "8y-6ItmPQbUS"
      },
      "source": [
        "### **Cross Validation**\n",
        "\n",
        "\n"
      ]
    },
    {
      "cell_type": "code",
      "source": [
        "import joblib  # For saving the best model\n",
        "\n",
        "# Define the models to evaluate\n",
        "models = [\n",
        "    (\"Decision Tree\", DecisionTreeRegressor()),\n",
        "    (\"K-Nearest Neighbors (KNN)\", KNeighborsRegressor()),\n",
        "    (\"Random Forest\", RandomForestRegressor()),\n",
        "    (\"Gradient Boosting\", GradientBoostingRegressor())\n",
        "]\n",
        "\n",
        "# Variables to track the best model and its metrics\n",
        "best_model_name = None\n",
        "best_model = None\n",
        "best_rmse = float(\"inf\")  # Start with a high RMSE value\n",
        "\n",
        "# K-fold cross-validation and evaluation\n",
        "for name, model in models:\n",
        "    # Cross-validation for multiple metrics\n",
        "    cv_results_rmse = np.abs(\n",
        "        cross_val_score(model, X_train, y_train, cv=KFold(n_splits=5, shuffle=True, random_state=42), scoring='neg_root_mean_squared_error')\n",
        "    )\n",
        "    cv_results_mae = cross_val_score(\n",
        "        model, X_train, y_train, cv=KFold(n_splits=5, shuffle=True, random_state=42), scoring='neg_mean_absolute_error'\n",
        "    )\n",
        "    cv_results_r2 = cross_val_score(\n",
        "        model, X_train, y_train, cv=KFold(n_splits=5, shuffle=True, random_state=42), scoring='r2'\n",
        "    )\n",
        "    cv_results_mse = np.abs(\n",
        "        cross_val_score(model, X_train, y_train, cv=KFold(n_splits=5, shuffle=True, random_state=42), scoring='neg_mean_squared_error')\n",
        "    )\n",
        "\n",
        "    # Calculate metrics\n",
        "    rmse = cv_results_rmse.mean()\n",
        "    mae = -cv_results_mae.mean()\n",
        "    r2 = cv_results_r2.mean()\n",
        "    mse = -cv_results_mse.mean()\n",
        "\n",
        "    # Print the results\n",
        "    print(f\"{name} Performance:\")\n",
        "    print(f\"R-squared: {r2:.4f}\")\n",
        "    print(f\"Mean Absolute Error (MAE): {mae:.4f}\")\n",
        "    print(f\"Mean Squared Error (MSE): {mse:.4f}\")\n",
        "    print(f\"Root Mean Squared Error (RMSE): {rmse:.4f}\")\n",
        "    print(\"-\" * 50)  # Separator for clarity\n",
        "\n",
        "    # Update the best model if the current RMSE is lower\n",
        "    if rmse < best_rmse:\n",
        "        best_rmse = rmse\n",
        "        best_model_name = name\n",
        "        best_model = model\n",
        "\n",
        "# Fit the best model on the entire training dataset\n",
        "best_model.fit(X_train, y_train)\n",
        "\n",
        "# Save the best model to a file\n",
        "donation_bags_prediction_model = f\"best_model_{best_model_name.replace(' ', '_')}.pkl\"\n",
        "joblib.dump(best_model, donation_bags_prediction_model)\n",
        "\n",
        "# Print the best model's performance\n",
        "print(f\"\\nBest Model: {best_model_name}\")\n",
        "print(f\"Best RMSE: {best_rmse:.4f}\")\n",
        "print(f\"The best model has been saved to {donation_bags_prediction_model}\")\n"
      ],
      "metadata": {
        "colab": {
          "base_uri": "https://localhost:8080/"
        },
        "id": "z3HdHltjTFr3",
        "outputId": "db39a7bb-716b-438f-a23e-7dce3a89864a"
      },
      "execution_count": 334,
      "outputs": [
        {
          "output_type": "stream",
          "name": "stdout",
          "text": [
            "Decision Tree Performance:\n",
            "R-squared: -0.6378\n",
            "Mean Absolute Error (MAE): 15.3797\n",
            "Mean Squared Error (MSE): -1665.0292\n",
            "Root Mean Squared Error (RMSE): 37.3251\n",
            "--------------------------------------------------\n",
            "K-Nearest Neighbors (KNN) Performance:\n",
            "R-squared: 0.4079\n",
            "Mean Absolute Error (MAE): 13.3231\n",
            "Mean Squared Error (MSE): -969.8987\n",
            "Root Mean Squared Error (RMSE): 26.3879\n",
            "--------------------------------------------------\n",
            "Random Forest Performance:\n",
            "R-squared: 0.3638\n",
            "Mean Absolute Error (MAE): 12.2463\n",
            "Mean Squared Error (MSE): -937.4018\n",
            "Root Mean Squared Error (RMSE): 25.8353\n",
            "--------------------------------------------------\n",
            "Gradient Boosting Performance:\n",
            "R-squared: 0.2418\n",
            "Mean Absolute Error (MAE): 12.2407\n",
            "Mean Squared Error (MSE): -1054.7820\n",
            "Root Mean Squared Error (RMSE): 27.5158\n",
            "--------------------------------------------------\n",
            "\n",
            "Best Model: Random Forest\n",
            "Best RMSE: 25.8353\n",
            "The best model has been saved to best_model_Random_Forest.pkl\n"
          ]
        }
      ]
    },
    {
      "cell_type": "markdown",
      "metadata": {
        "id": "aE7diLpxfE0m"
      },
      "source": [
        "Hyperparameter Tuning of the models"
      ]
    },
    {
      "cell_type": "code",
      "source": [
        "\n",
        "\n",
        "# Define models and their parameter grids\n",
        "models = {\n",
        "    'KNN': {\n",
        "        'model': KNeighborsRegressor(),\n",
        "        'params': {\n",
        "            'knn__n_neighbors': [3, 5, 7, 9, 11],\n",
        "            'knn__weights': ['uniform', 'distance'],\n",
        "            'knn__metric': ['euclidean', 'manhattan']\n",
        "        }\n",
        "    },\n",
        "    'RandomForest': {\n",
        "        'model': RandomForestRegressor(),\n",
        "        'params': {\n",
        "            'randomforest__n_estimators': [100, 150, 200],\n",
        "            'randomforest__max_depth': [None, 10, 20],\n",
        "            'randomforest__min_samples_split': [2, 5],\n",
        "            'randomforest__min_samples_leaf': [1, 2],\n",
        "            'randomforest__max_features': ['sqrt', 'log2'],\n",
        "            'randomforest__bootstrap': [True, False]\n",
        "        }\n",
        "    },\n",
        "    'GradientBoosting': {\n",
        "        'model': GradientBoostingRegressor(),\n",
        "        'params': {\n",
        "            'gradientboosting__n_estimators': [100, 150, 200],\n",
        "            'gradientboosting__learning_rate': [0.1, 0.05, 0.01],\n",
        "            'gradientboosting__max_depth': [3, 5, 7],\n",
        "            'gradientboosting__min_samples_split': [2, 5],\n",
        "            'gradientboosting__min_samples_leaf': [1, 2],\n",
        "            'gradientboosting__max_features': ['sqrt', 'log2']\n",
        "        }\n",
        "    },\n",
        "    'DecisionTree': {\n",
        "        'model': DecisionTreeRegressor(),\n",
        "        'params': {\n",
        "            'decisiontree__max_depth': [None, 10, 20, 30],\n",
        "            'decisiontree__splitter': ['best', 'random']\n",
        "        }\n",
        "    }\n",
        "}\n",
        "\n",
        "# Store results\n",
        "best_models = {}\n",
        "results = {}\n",
        "\n",
        "# Iterate over models and perform GridSearchCV\n",
        "for name, config in models.items():\n",
        "    print(f\"Training model: {name}...\")\n",
        "    pipeline = Pipeline([\n",
        "        ('scaler', StandardScaler()),\n",
        "        (name.lower(), config['model'])\n",
        "    ])\n",
        "\n",
        "    grid_search = GridSearchCV(\n",
        "        pipeline,\n",
        "        config['params'],\n",
        "        cv=5,\n",
        "        scoring='neg_mean_squared_error',\n",
        "        n_jobs=-1,\n",
        "        verbose=2,\n",
        "        error_score=np.nan  # Skip invalid configurations\n",
        "    )\n",
        "\n",
        "    try:\n",
        "        grid_search.fit(X_train, y_train)\n",
        "        # Store the best model and metrics if successful\n",
        "        best_model = grid_search.best_estimator_\n",
        "        best_rmse = np.sqrt(-grid_search.best_score_)  # RMSE from neg MSE\n",
        "        y_pred = best_model.predict(X_test)\n",
        "\n",
        "        # Calculate other metrics\n",
        "        mae = mean_absolute_error(y_test, y_pred)\n",
        "        mse = mean_squared_error(y_test, y_pred)\n",
        "        r2 = r2_score(y_test, y_pred)\n",
        "\n",
        "        # Store results\n",
        "        best_models[name] = best_model\n",
        "        results[name] = {\n",
        "            'best_params': grid_search.best_params_,\n",
        "            'best_rmse': best_rmse,\n",
        "            'mae': mae,\n",
        "            'mse': mse,\n",
        "            'r2': r2\n",
        "        }\n",
        "    except ValueError as e:\n",
        "        print(f\"GridSearchCV error for {name}: {e}\")\n",
        "\n",
        "# Define a custom scoring function (lower score is better)\n",
        "def custom_score(result):\n",
        "    return result['best_rmse'] + (1 - result['r2'])\n",
        "\n",
        "# Select the best model based on the custom scoring function\n",
        "best_model_name = min(results, key=lambda k: custom_score(results[k]))\n",
        "\n",
        "# Make predictions with the best model\n",
        "y_pred_best = best_models[best_model_name].predict(X_test)\n",
        "\n",
        "# Print results for all models\n",
        "for name, result in results.items():\n",
        "    print(f\"{name} - RMSE: {result['best_rmse']:.4f}, MAE: {result['mae']:.4f}, MSE: {result['mse']:.4f}, R²: {result['r2']:.4f}\")\n",
        "\n",
        "# Print the best model's name and performance\n",
        "print(f\"\\nBest model based on custom scoring: {best_model_name}\")\n",
        "print(f\"Best RMSE: {results[best_model_name]['best_rmse']:.4f}, Best R²: {results[best_model_name]['r2']:.4f}\")\n"
      ],
      "metadata": {
        "colab": {
          "base_uri": "https://localhost:8080/"
        },
        "id": "2GO2XAA5H8FA",
        "outputId": "0af1cfcc-60a2-49b4-9207-e58585ce7a48"
      },
      "execution_count": 337,
      "outputs": [
        {
          "output_type": "stream",
          "name": "stdout",
          "text": [
            "Training model: KNN...\n",
            "Fitting 5 folds for each of 20 candidates, totalling 100 fits\n",
            "Training model: RandomForest...\n",
            "Fitting 5 folds for each of 144 candidates, totalling 720 fits\n"
          ]
        },
        {
          "output_type": "stream",
          "name": "stderr",
          "text": [
            "/usr/local/lib/python3.10/dist-packages/numpy/ma/core.py:2820: RuntimeWarning: invalid value encountered in cast\n",
            "  _data = np.array(data, dtype=dtype, copy=copy,\n"
          ]
        },
        {
          "output_type": "stream",
          "name": "stdout",
          "text": [
            "Training model: GradientBoosting...\n",
            "Fitting 5 folds for each of 216 candidates, totalling 1080 fits\n",
            "Training model: DecisionTree...\n",
            "Fitting 5 folds for each of 8 candidates, totalling 40 fits\n",
            "KNN - RMSE: 30.8188, MAE: 14.5556, MSE: 1151.8234, R²: 0.0030\n",
            "RandomForest - RMSE: 29.2327, MAE: 13.1913, MSE: 984.2906, R²: 0.1480\n",
            "GradientBoosting - RMSE: 28.2119, MAE: 14.7541, MSE: 1014.0372, R²: 0.1222\n",
            "DecisionTree - RMSE: 39.6409, MAE: 15.6260, MSE: 1655.4045, R²: -0.4329\n",
            "\n",
            "Best model based on custom scoring: GradientBoosting\n",
            "Best RMSE: 28.2119, Best R²: 0.1222\n"
          ]
        }
      ]
    }
  ]
}